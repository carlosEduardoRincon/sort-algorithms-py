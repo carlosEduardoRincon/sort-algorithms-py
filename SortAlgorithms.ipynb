{
  "nbformat": 4,
  "nbformat_minor": 0,
  "metadata": {
    "colab": {
      "provenance": [],
      "authorship_tag": "ABX9TyPLrt+UcYhPhlRBsAE1w9Yb",
      "include_colab_link": true
    },
    "kernelspec": {
      "name": "python3",
      "display_name": "Python 3"
    },
    "language_info": {
      "name": "python"
    }
  },
  "cells": [
    {
      "cell_type": "markdown",
      "metadata": {
        "id": "view-in-github",
        "colab_type": "text"
      },
      "source": [
        "<a href=\"https://colab.research.google.com/github/carlosEduardoRincon/sort-algorithms-py/blob/main/SortAlgorithms.ipynb\" target=\"_parent\"><img src=\"https://colab.research.google.com/assets/colab-badge.svg\" alt=\"Open In Colab\"/></a>"
      ]
    },
    {
      "cell_type": "code",
      "execution_count": 4,
      "metadata": {
        "id": "WUK1h_AlIdE9"
      },
      "outputs": [],
      "source": [
        "def buscarMenor(arr):\n",
        "  menor = arr[0]\n",
        "  menor_indice = 0;\n",
        "  for i in range(1, len(arr)):\n",
        "    if arr[i] < menor:\n",
        "      menor = arr[i]\n",
        "      menor_indice = i\n",
        "  return menor_indice;"
      ]
    },
    {
      "cell_type": "code",
      "source": [
        "## Ordenação por Seleção O(n²)\n",
        "def ordenacaoPorSelecao(arr):\n",
        "  novoArr = []\n",
        "  for i in range(len(arr)):\n",
        "    indice = buscarMenor(arr)\n",
        "    novoArr.append(arr.pop(indice))\n",
        "  return novoArr;"
      ],
      "metadata": {
        "id": "R1X0FKbVMv2t"
      },
      "execution_count": 9,
      "outputs": []
    },
    {
      "cell_type": "code",
      "source": [
        "def soma_recursiva(arr):\n",
        "  if (len(arr) == 0):\n",
        "    return 0;\n",
        "\n",
        "  return arr.pop(0) + soma_recursiva(arr)"
      ],
      "metadata": {
        "id": "o05ywz9fWsom"
      },
      "execution_count": 42,
      "outputs": []
    },
    {
      "cell_type": "code",
      "source": [
        "def selecao_recursiva(arr):\n",
        "  if len(arr) == 1:\n",
        "    return arr[0]\n",
        "\n",
        "  print(\"Array Intermediario:\" + str(arr))\n",
        "  if arr[0] < arr[1]:\n",
        "    arr.pop(0)\n",
        "  else:\n",
        "    arr.pop(1)\n",
        "\n",
        "  return selecao_recursiva(arr)\n"
      ],
      "metadata": {
        "id": "_Qk79RZ7Zpdz"
      },
      "execution_count": 68,
      "outputs": []
    },
    {
      "cell_type": "code",
      "source": [
        "array_inicial = [100,56,120,3,130,80,500,34]\n",
        "\n",
        "numeros_ordenados = ordenacaoPorSelecao(array_inicial.copy())\n",
        "soma_numeros = soma_recursiva(array_inicial.copy())\n",
        "maior_numero = selecao_recursiva(array_inicial.copy());\n",
        "\n",
        "print(\"Array inicial: \" + str(array_inicial))\n",
        "print(\"Array ordernado: \" + str(numeros_ordenados))\n",
        "print(\"Soma: \" + str(soma_numeros))\n",
        "print(\"Maior número: \" + str(maior_numero))"
      ],
      "metadata": {
        "colab": {
          "base_uri": "https://localhost:8080/"
        },
        "id": "5p9RgPswKmB-",
        "outputId": "a26071a1-1ede-4f90-8b5d-eb931d88d61c"
      },
      "execution_count": 70,
      "outputs": [
        {
          "output_type": "stream",
          "name": "stdout",
          "text": [
            "Array Intermediario:[43, 56, 100, 300, 2, 80, 500, 34]\n",
            "Array Intermediario:[56, 100, 300, 2, 80, 500, 34]\n",
            "Array Intermediario:[100, 300, 2, 80, 500, 34]\n",
            "Array Intermediario:[300, 2, 80, 500, 34]\n",
            "Array Intermediario:[300, 80, 500, 34]\n",
            "Array Intermediario:[300, 500, 34]\n",
            "Array Intermediario:[500, 34]\n",
            "Array inicial: [43, 56, 100, 300, 2, 80, 500, 34]\n",
            "Array ordernado: [2, 34, 43, 56, 80, 100, 300, 500]\n",
            "Soma: 1115\n",
            "Maior número: 500\n"
          ]
        }
      ]
    }
  ]
}